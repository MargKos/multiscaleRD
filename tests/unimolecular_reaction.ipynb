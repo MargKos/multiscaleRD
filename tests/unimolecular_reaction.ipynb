{
 "cells": [
  {
   "cell_type": "code",
   "execution_count": null,
   "metadata": {},
   "outputs": [],
   "source": [
    "import numpy as np"
   ]
  },
  {
   "cell_type": "code",
   "execution_count": null,
   "metadata": {},
   "outputs": [],
   "source": [
    "class particle():\n",
    "    state = \"A\"\n",
    "    position = np.array([0.,0.])\n",
    "    rate = 10.0\n",
    "    \n",
    "    def change_state(self):\n",
    "        if self.state == \"A\":\n",
    "            self.state = \"B\"\n",
    "        elif self.state == \"B\":\n",
    "            self.state = \"A\"\n",
    "            "
   ]
  },
  {
   "cell_type": "code",
   "execution_count": null,
   "metadata": {},
   "outputs": [],
   "source": [
    "def propagate(rate):\n",
    "    time = -1.0*np.log(np.random.rand())/rate\n",
    "    return time"
   ]
  },
  {
   "cell_type": "code",
   "execution_count": null,
   "metadata": {},
   "outputs": [],
   "source": [
    "def eulerMaruyama(particle,dt):\n",
    "    particle.position = particle.position + np.random.normal(0,dt)"
   ]
  },
  {
   "cell_type": "code",
   "execution_count": null,
   "metadata": {},
   "outputs": [],
   "source": [
    "def integrate(particle, maxtime):\n",
    "    t = 0.0\n",
    "    dtlist = []\n",
    "    while t<maxtime:\n",
    "        nexttime = propagate(particle.rate)\n",
    "        particle.change_state()\n",
    "        t = t + nexttime\n",
    "        dtlist.append(nexttime)\n",
    "        print(t, nexttime, particle.state)\n",
    "    print(sum(dtlist)/len(dtlist))"
   ]
  },
  {
   "cell_type": "code",
   "execution_count": null,
   "metadata": {},
   "outputs": [],
   "source": [
    "part = particle()\n",
    "integrate(part,100)"
   ]
  },
  {
   "cell_type": "code",
   "execution_count": null,
   "metadata": {},
   "outputs": [],
   "source": []
  }
 ],
 "metadata": {
  "kernelspec": {
   "display_name": "Python [conda env:msmrd-dev]",
   "language": "python",
   "name": "conda-env-msmrd-dev-py"
  },
  "language_info": {
   "codemirror_mode": {
    "name": "ipython",
    "version": 3
   },
   "file_extension": ".py",
   "mimetype": "text/x-python",
   "name": "python",
   "nbconvert_exporter": "python",
   "pygments_lexer": "ipython3",
   "version": "3.6.5"
  }
 },
 "nbformat": 4,
 "nbformat_minor": 2
}
