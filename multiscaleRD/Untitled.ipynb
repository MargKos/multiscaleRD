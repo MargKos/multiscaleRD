{
 "cells": [
  {
   "cell_type": "code",
   "execution_count": null,
   "id": "468c399b-b590-4dc8-a757-f98bbbe68bcc",
   "metadata": {},
   "outputs": [],
   "source": [
    "from __future__ import division\n",
    "import numpy as np\n",
    "import matplotlib\n",
    "import matplotlib.pyplot as plt\n",
    "import matplotlib.animation as animation\n",
    "import seaborn as sns\n",
    "from ParametersB_SIR import *\n",
    "import matplotlib.lines as mlines\n",
    "\n",
    "\n",
    "SusJSDSimulations=np.load('./Solutions/JSDSusExplicitB.npy') \n",
    "RecJSDSimulations=np.load('./Solutions/JSDInfExplicitB.npy')\n",
    "InfJSDSimulations=np.load('./Solutions/JSDRecExplicitB.npy')\n",
    "\n",
    "#%%\n",
    "#transfer to log() \n",
    "SusJSDSimulations=np.log(SusJSDSimulations)\n",
    "RecJSDSimulations=np.log(RecJSDSimulations)\n",
    "InfJSDSimulations=np.log(InfJSDSimulations)\n",
    "#%%\n",
    "Times=[4,9]\n",
    "ts=0.1\n",
    "\n"
   ]
  }
 ],
 "metadata": {
  "kernelspec": {
   "display_name": "Python 3 (ipykernel)",
   "language": "python",
   "name": "python3"
  },
  "language_info": {
   "codemirror_mode": {
    "name": "ipython",
    "version": 3
   },
   "file_extension": ".py",
   "mimetype": "text/x-python",
   "name": "python",
   "nbconvert_exporter": "python",
   "pygments_lexer": "ipython3",
   "version": "3.12.8"
  }
 },
 "nbformat": 4,
 "nbformat_minor": 5
}
